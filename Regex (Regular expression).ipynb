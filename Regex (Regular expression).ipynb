{
 "cells": [
  {
   "cell_type": "raw",
   "metadata": {},
   "source": [
    "regular expression -- is a special text string for describing a search pattern.\n",
    "\n",
    "1. re.findall -- return list of all matches.\n",
    "2. re.search\n",
    "3. re.finditer -- generate an iterator\n",
    "4. .sub -- substitue , used to replace word or anything\n",
    "5. re.compile"
   ]
  },
  {
   "cell_type": "raw",
   "metadata": {},
   "source": [
    "# Identifiers :\n",
    "\n",
    "\\n : next line                   \n",
    "\\f : formfeed\n",
    "\\e : escape\n",
    "\\b : backspace\n",
    "\\r : carriage return\n",
    "\\t : Tab \n",
    "\\v : vertical tab \n",
    "\\s : space\n",
    "\\w = [a-zA-Z0-9_]  , small w\n",
    "\\W = [^a-zA-Z0-9]  , capital W  , Caret - ^ means except these\n",
    "\\s = [\\f\\n\\r\\t\\v]  , small s\n",
    "\\S = [^\\f\\n\\r\\t\\v]  , capital S"
   ]
  },
  {
   "cell_type": "raw",
   "metadata": {},
   "source": [
    "# Modifiers :\n",
    "\n",
    "{1,3} : we are excepting 1-3\n",
    "+ : match 1 or more\n",
    "? : match 0 or 1\n",
    "* : match 0 or more\n",
    "$ : match the end of a string\n",
    "^ : match the begining of a string\n",
    "| : either or \\d{1-3} | \\w{5-6}\n",
    "[] : range or variance[A-za-z]\n",
    "{x} : expecting x value"
   ]
  },
  {
   "cell_type": "markdown",
   "metadata": {},
   "source": [
    "## ------------------"
   ]
  },
  {
   "cell_type": "code",
   "execution_count": 1,
   "metadata": {},
   "outputs": [
    {
     "name": "stdout",
     "output_type": "stream",
     "text": [
      "{'Janice': '22', 'Theon': '31', 'Gabriel': '44', 'Joey': '21'}\n"
     ]
    }
   ],
   "source": [
    "# Identify the pattern to get Name and age.\n",
    "\n",
    "import re                                             \n",
    "\n",
    "NameAge = '''                                     \n",
    "Janice is 22 and Theon is 31\n",
    "Gabriel is 44 and Joey is 21\n",
    "'''\n",
    "ages = re.findall(r\"\\d{1,3}\", NameAge)         # {1,3} - means take the 2 digit for age, Nameage - is var. defined  \n",
    "names = re.findall(r\"[A-Z][a-z]*\", NameAge)     # A-Z,a-z takes alphabets, * - takes all\n",
    "\n",
    "# print(names, ages)\n",
    "\n",
    "ageDict = {}\n",
    "x = 0                                   # Here we creating dictionary of names and ages.\n",
    "for eachname in names:\n",
    "    ageDict[eachname] = ages[x]\n",
    "    x+=1\n",
    "    \n",
    "print(ageDict)"
   ]
  },
  {
   "cell_type": "markdown",
   "metadata": {},
   "source": [
    "##### cursor operation of regular expression -> Both the string and regex have their own cursor"
   ]
  },
  {
   "cell_type": "code",
   "execution_count": 2,
   "metadata": {},
   "outputs": [
    {
     "name": "stdout",
     "output_type": "stream",
     "text": [
      "There is inform\n"
     ]
    }
   ],
   "source": [
    "# Find a word in string \n",
    "\n",
    "import re                               # re.search(1.word to find, 2. string in which to find)\n",
    "\n",
    "if re.search(\"inform\", \"we need to inform him with the latest information.\"):\n",
    "    print(\"There is inform\")"
   ]
  },
  {
   "cell_type": "code",
   "execution_count": 3,
   "metadata": {},
   "outputs": [
    {
     "name": "stdout",
     "output_type": "stream",
     "text": [
      "inform\n",
      "inform\n"
     ]
    }
   ],
   "source": [
    "# Using  re.findall\n",
    "\n",
    "allinform = re.findall(\"inform\", \"we need to inform him with the latest information.\")\n",
    "\n",
    "for i in allinform:\n",
    "    print(i)                 # 2nd inform takes of : information"
   ]
  },
  {
   "cell_type": "code",
   "execution_count": 4,
   "metadata": {},
   "outputs": [
    {
     "name": "stdout",
     "output_type": "stream",
     "text": [
      "(11, 17)\n",
      "(38, 44)\n"
     ]
    }
   ],
   "source": [
    "# Get the starting and ending index of - word , searching from an string.\n",
    "\n",
    "import re\n",
    "\n",
    "str = \"we need to inform him with the latest information.\"\n",
    "\n",
    "for i in re.finditer(\"inform\", str):\n",
    "    itertup = i.span()           # Here we converting into tuple , otherwise it return like an object - print(i)    \n",
    "    print(itertup)            "
   ]
  },
  {
   "cell_type": "code",
   "execution_count": 5,
   "metadata": {},
   "outputs": [
    {
     "name": "stdout",
     "output_type": "stream",
     "text": [
      "Sat\n",
      "Mat\n"
     ]
    }
   ],
   "source": [
    "# Match word with a particular pattern\n",
    "\n",
    "import re \n",
    "\n",
    "str = \"Sat, Mat, Hat, Rat, Bat\"\n",
    "\n",
    "allstr = re.findall(\"[SMhrb]at\", str)         # Upper , lower case of alphabets matters.\n",
    "\n",
    "for i in allstr:\n",
    "    print(i)"
   ]
  },
  {
   "cell_type": "code",
   "execution_count": 6,
   "metadata": {},
   "outputs": [
    {
     "name": "stdout",
     "output_type": "stream",
     "text": [
      "Mat\n",
      "Hat\n",
      "Bat\n",
      "----------\n",
      "Sat\n",
      "Rat\n"
     ]
    }
   ],
   "source": [
    "# Match series of range of characters\n",
    "\n",
    "import re\n",
    "\n",
    "str = \"Sat, Mat, Hat, Rat, Bat\"\n",
    "\n",
    "allstr = re.findall(\"[B-M]at\", str)         # Upper , lower case of alphabets matters.\n",
    "\n",
    "for i in allstr:\n",
    "    print(i)\n",
    "    \n",
    "print(10 * \"-\")      # as a separator \n",
    "\n",
    "\n",
    "    \n",
    "# same,   just using caret symbol -> ^    \n",
    "\n",
    "str = \"Sat, Mat, Hat, Rat, Bat\"\n",
    "\n",
    "allstr = re.findall(\"[^B-M]at\", str)         # ^ caret means : it left these and remaining it selects\n",
    "\n",
    "for i in allstr:\n",
    "    print(i)"
   ]
  },
  {
   "cell_type": "code",
   "execution_count": 7,
   "metadata": {},
   "outputs": [
    {
     "name": "stdout",
     "output_type": "stream",
     "text": [
      "Sat, Mat, Hat, food, Bat\n"
     ]
    }
   ],
   "source": [
    "#  Replace a word of string\n",
    "\n",
    "import re\n",
    "\n",
    "str = \"Sat, Mat, Hat, Rat, Bat\"\n",
    "\n",
    "regex = re.compile(\"[R]at\")   # pattern objects               # we can also do with findall('[a-z]'), but findall returns list \n",
    "\n",
    "output = regex.sub(\"food\", str)    # replacing Rat = food \n",
    "print(output)"
   ]
  },
  {
   "cell_type": "code",
   "execution_count": 8,
   "metadata": {},
   "outputs": [
    {
     "name": "stdout",
     "output_type": "stream",
     "text": [
      "Keep the blue flag                                  flying high Chelsea\n",
      "\n"
     ]
    }
   ],
   "source": [
    "# Replacing the next line with space         \n",
    "\n",
    "import re\n",
    "\n",
    "randstr = '''Keep the blue flag                                 \n",
    "flying high\n",
    "Chelsea\n",
    "'''\n",
    "\n",
    "regex = re.compile(\"\\n\")      # pattern object , used to repalce \n",
    "\n",
    "rand = regex.sub(\" \", randstr)    # we can also used 3rd argument for upto which no. we want to substitute like: 2 \n",
    "rand = regex.sub(\" \", randstr, 2)\n",
    "\n",
    "print(rand)"
   ]
  },
  {
   "cell_type": "code",
   "execution_count": 10,
   "metadata": {},
   "outputs": [
    {
     "name": "stdout",
     "output_type": "stream",
     "text": [
      "Matches: 5\n",
      "Matches: 5\n",
      "Matches: 1\n",
      "--------------------\n",
      "Matches: 3\n"
     ]
    }
   ],
   "source": [
    "import re \n",
    "\n",
    "randstr = \"12345\"\n",
    "\n",
    "print(\"Matches:\", len(re.findall(\"\\d\", randstr)))     # \\d - small d - selects all and gives no. of matches , using len\n",
    "print(\"Matches:\", len(re.findall(\"\\d\", randstr)))     # \\D - capital D - selects none , bcoz using len\n",
    "print(\"Matches:\", len(re.findall(\"\\d{5}\", randstr)))     # gives 1 match , bcoz using len func.\n",
    "\n",
    "print(20* \"-\")\n",
    "\n",
    "num = \"123 1234 12345 123456 1234567\"\n",
    "\n",
    "print(\"Matches:\", len(re.findall(\"\\d{5,7}\", num)))    # finds range of 5 to 7"
   ]
  },
  {
   "cell_type": "markdown",
   "metadata": {},
   "source": [
    "## -------------------------------------"
   ]
  },
  {
   "cell_type": "markdown",
   "metadata": {},
   "source": [
    "### Phone number Verification"
   ]
  },
  {
   "cell_type": "raw",
   "metadata": {},
   "source": [
    "To verify the phone numbers                              \\w = [a-zA-Z0-9_]  , small w\n",
    "                                                         \\W = [^a-zA-Z0-9]  , capital W\n",
    "All numbers should have condition: \n",
    "    3 starting digits and '-' sign                        \\s = [\\f\\n\\r\\t\\v]  , small s\n",
    "    3 middle digits and '-' sign                          \\S = [^\\f\\n\\r\\t\\v] , capital S\n",
    "    4 digits in the end"
   ]
  },
  {
   "cell_type": "code",
   "execution_count": 11,
   "metadata": {},
   "outputs": [
    {
     "name": "stdout",
     "output_type": "stream",
     "text": [
      "It is a phone number\n",
      "--------------------\n",
      "Fullname is valid\n"
     ]
    }
   ],
   "source": [
    "import re\n",
    "\n",
    "phn = \"444-221-4545\"\n",
    "if re.search(\"\\w{3}-\\w{3}-\\w{4}\", phn):              # We can also use here \\d , bcoz all are digits in phn\n",
    "    print(\"It is a phone number\")\n",
    "    \n",
    "    \n",
    "print(20* '-')  # separator \n",
    "\n",
    "\n",
    "if re.search(\"\\w{2,20}\\s\\w{2,20}\", \"David Taneja\"):     # here we use small w \n",
    "    print(\"Fullname is valid\")\n",
    "    "
   ]
  },
  {
   "cell_type": "markdown",
   "metadata": {},
   "source": [
    "## ------------------------------"
   ]
  },
  {
   "cell_type": "markdown",
   "metadata": {},
   "source": [
    "### E-mail Verification"
   ]
  },
  {
   "cell_type": "raw",
   "metadata": {},
   "source": [
    "E-mail address include : \n",
    "-> 1 to 20 lowercase and uppercase letters, numbers, plus ._%+-\n",
    "-> An @ symbol\n",
    "-> 2 to 20 lowercase and uppercase letters, numbers, plus .-\n",
    "-> A period-> . is dot\n",
    "-> 2 to 3 lowercase and uppercase letters"
   ]
  },
  {
   "cell_type": "code",
   "execution_count": 12,
   "metadata": {},
   "outputs": [
    {
     "name": "stdout",
     "output_type": "stream",
     "text": [
      "Email-Matches: 2\n"
     ]
    }
   ],
   "source": [
    "import re\n",
    "\n",
    "email = \"sk@aol.com md@.com @seo.com dc@.com sk@aol.com\"\n",
    "\n",
    "print(\"Email-Matches:\", len(re.findall(\"[\\w.%+-]{1,20}@[\\w.-]{2,20}.[A-Za-z]{2,3}\", email)))      # takes - sk@aol.com"
   ]
  },
  {
   "cell_type": "markdown",
   "metadata": {},
   "source": [
    "## -----------------------------"
   ]
  },
  {
   "cell_type": "markdown",
   "metadata": {},
   "source": [
    "### Web Scraping - using Regex"
   ]
  },
  {
   "cell_type": "raw",
   "metadata": {},
   "source": [
    "# Here we scrape phone number   (acc. to yours find anything) \n",
    "\n",
    "import urllib.request\n",
    "from re import findall\n",
    "\n",
    "url = \"..here comes the url ot scrape..\"\n",
    "\n",
    "response = urllib.request.urlopen(url)\n",
    "\n",
    "html = response.read()\n",
    "\n",
    "htmlstr = html.decode()\n",
    "\n",
    "pdata = findall(\"\\(\\d{3}\\) \\d{3}-\\d{4}\", htmlstr)\n",
    "\n",
    "for item in pdata:\n",
    "    print(item)"
   ]
  }
 ],
 "metadata": {
  "kernelspec": {
   "display_name": "Python 3",
   "language": "python",
   "name": "python3"
  },
  "language_info": {
   "codemirror_mode": {
    "name": "ipython",
    "version": 3
   },
   "file_extension": ".py",
   "mimetype": "text/x-python",
   "name": "python",
   "nbconvert_exporter": "python",
   "pygments_lexer": "ipython3",
   "version": "3.6.8"
  }
 },
 "nbformat": 4,
 "nbformat_minor": 2
}
